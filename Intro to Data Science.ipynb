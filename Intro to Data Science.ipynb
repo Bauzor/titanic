{
 "cells": [
  {
   "cell_type": "markdown",
   "metadata": {},
   "source": [
    "<h1>Chatper 1: Introduction to Data Science</h1>\n",
    "<hr>\n",
    "<h2>This note book is complete with practice exercise for new data scientists to start learning how to become a data scientist.</h2>\n",
    "\n",
    "<p>The format of this notebook is going to be consistent throughout most of my tutorial notebooks. I will be using a the titanic data set to go through different concepts and how to implement them on the titanic data set. There will be four other data sets provided alongside the Titanic data set for you to apply the strategies and concepts to. I would advise you to try and not move on to the next section until you can do all the practice problems without scrolling back up to the examples that are shown. If there are any errors, please let me know. Enjoy!</p>"
   ]
  },
  {
   "cell_type": "markdown",
   "metadata": {},
   "source": [
    "<h1>1.1.1 What is Data Science?</h1>\n",
    "<p>Data - Science is an emerging field of technology as in the current society, the amount of information that people are collecting is growing at an alarming rate. This information is not always easy to read and understand. Take this Titanic data set as an example:</p>"
   ]
  },
  {
   "cell_type": "markdown",
   "metadata": {},
   "source": [
    "<img src = \"titanic/images/train_csv.JPG\">"
   ]
  },
  {
   "attachments": {},
   "cell_type": "markdown",
   "metadata": {},
   "source": []
  },
  {
   "cell_type": "code",
   "execution_count": null,
   "metadata": {},
   "outputs": [],
   "source": []
  }
 ],
 "metadata": {
  "kernelspec": {
   "display_name": "Python 3",
   "language": "python",
   "name": "python3"
  },
  "language_info": {
   "codemirror_mode": {
    "name": "ipython",
    "version": 3
   },
   "file_extension": ".py",
   "mimetype": "text/x-python",
   "name": "python",
   "nbconvert_exporter": "python",
   "pygments_lexer": "ipython3",
   "version": "3.6.0"
  }
 },
 "nbformat": 4,
 "nbformat_minor": 2
}
